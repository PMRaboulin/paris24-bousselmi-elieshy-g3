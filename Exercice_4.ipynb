{
  "nbformat": 4,
  "nbformat_minor": 0,
  "metadata": {
    "colab": {
      "provenance": [],
      "authorship_tag": "ABX9TyMYCARrIWI0bnHy/OgZMy1n",
      "include_colab_link": true
    },
    "kernelspec": {
      "name": "python3",
      "display_name": "Python 3"
    },
    "language_info": {
      "name": "python"
    }
  },
  "cells": [
    {
      "cell_type": "markdown",
      "metadata": {
        "id": "view-in-github",
        "colab_type": "text"
      },
      "source": [
        "<a href=\"https://colab.research.google.com/github/PMRaboulin/paris24-bousselmi-elieshy-g3/blob/main/Exercice_4.ipynb\" target=\"_parent\"><img src=\"https://colab.research.google.com/assets/colab-badge.svg\" alt=\"Open In Colab\"/></a>"
      ]
    },
    {
      "cell_type": "code",
      "execution_count": null,
      "metadata": {
        "id": "h06XLrNLT4HM"
      },
      "outputs": [],
      "source": [
        "# Exercise 4---------------------------------------------------------------------\n",
        "# Use Masks\n",
        "romeo_mask= np.array(Image.open(\"desktop/WC/romeo1.jpg\"))\n",
        "\n",
        "# Read image\n",
        "wc = WordCloud(_____=romeo_mask,colormap='inferno',random_state=5,max_font_size=50,min_font_size=0)\n",
        "\n",
        "# Generate wordcloud with text data\n",
        "wc.generate(text)\n",
        "\n",
        "# Save image\n",
        "wc.to_file(\"masked_wc.jpg\")\n",
        "\n",
        "# Show image\n",
        "plt.figure(figsize = (10, 10), facecolor=None)\n",
        "plt.tight_layout(pad = 0)\n",
        "plt.imshow(wc, interpolation='bilinear')\n",
        "\n",
        "# Off axis on image\n",
        "plt.show() #show image"
      ]
    }
  ]
}